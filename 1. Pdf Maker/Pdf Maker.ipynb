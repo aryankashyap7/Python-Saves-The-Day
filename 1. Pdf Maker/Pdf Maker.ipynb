{
 "cells": [
  {
   "cell_type": "markdown",
   "metadata": {},
   "source": [
    "<h5> Problem Faced:</h5>\n",
    "<h6>\n",
    " During my college, we used a get lots of random assignments and projects. We used to scan every individual page and then convert it into a PDF file. It was a very time-consuming process. So, I decided to automate this process using Python.\n",
    "</h6>\n",
    "\n",
    "<h6>\n",
    "All I need was to just take a click by the normal camera and add the images from internet. Then, I need to convert it into a PDF file. So, I decided to use the Python Imaging Library (PIL) and the Python Imaging Library (PIL) to do this task. This would even resolve the problem of the image quality and extension of the image.</h6>"
   ]
  },
  {
   "cell_type": "code",
   "execution_count": 1,
   "metadata": {},
   "outputs": [],
   "source": [
    "# Installing the required packages\n",
    "\n",
    "# !pip install pdfkit\n",
    "# !pip install img2pdf\n",
    "# !pip install Pillow\n",
    "# !pip install PyPDF2"
   ]
  },
  {
   "cell_type": "markdown",
   "metadata": {},
   "source": [
    "CASE 1: The user just need to merge the different images into a single PDF file."
   ]
  },
  {
   "cell_type": "code",
   "execution_count": 2,
   "metadata": {},
   "outputs": [],
   "source": [
    "# Importing the required modules\n",
    "import os\n",
    "from PIL import Image\n",
    "import img2pdf\n",
    "import glob\n",
    "\n",
    "# Setting the name of the directory where the images are stored\n",
    "directory = \"files\"\n",
    "\n",
    "# Setting the name of the output file\n",
    "output_file = \"output\"\n",
    "\n",
    "# Getting the list of all the images in the directory\n",
    "images = glob.glob(directory + \"/*.jpg\")\n",
    "images.extend(glob.glob(directory + \"/*.png\"))\n",
    "images.extend(glob.glob(directory + \"/*.jpeg\"))\n",
    "images.extend(glob.glob(directory + \"/*.webp\"))\n",
    "\n",
    "\n",
    "# Sorting the images in the order they were added\n",
    "images.sort(key=os.path.getmtime)\n",
    "\n",
    "# Converting the images into a single PDF file\n",
    "with open(output_file + \".pdf\", \"wb\") as f:\n",
    "    f.write(img2pdf.convert([i for i in images]))   \n"
   ]
  },
  {
   "cell_type": "markdown",
   "metadata": {},
   "source": [
    "CASE 2: The user just need to merge the different images stored into subfolders into pdf files, where each subfolder will be converted into a single pdf file."
   ]
  },
  {
   "cell_type": "code",
   "execution_count": 1,
   "metadata": {},
   "outputs": [],
   "source": [
    "# Importing the required modules\n",
    "import os\n",
    "from PIL import Image\n",
    "import img2pdf\n",
    "import glob\n",
    "\n",
    "# Setting the name of the directory where the subdirectories are stored\n",
    "directory = \"files\"\n",
    "\n",
    "# Rename the space in the name of the subdirectory with an underscore [Resolves Bugs]\n",
    "for folder in os.listdir(directory):\n",
    "    os.rename(os.path.join(directory, folder), os.path.join(directory, folder.replace(\" \", \"_\")))\n",
    "\n",
    "\n",
    "# Getting the list of all the subdirectories in the directory\n",
    "subdirectories = glob.glob(directory + \"/*\")\n",
    "\n",
    "# Function to convert all the images to pdf\n",
    "def convert_images_to_pdf(path, output_path):\n",
    "    # Get all the images\n",
    "    images = glob.glob(path + \"/*.jpg\")\n",
    "    images.extend(glob.glob(path + \"/*.png\"))\n",
    "    images.extend(glob.glob(path + \"/*.jpeg\"))\n",
    "    images.extend(glob.glob(path + \"/*.gif\"))\n",
    "    images.extend(glob.glob(path + \"/*.bmp\"))\n",
    "    images.extend(glob.glob(path + \"/*.tiff\"))\n",
    "    images.extend(glob.glob(path + \"/*.tif\"))\n",
    "    images.extend(glob.glob(path + \"/*.jfif\"))\n",
    "    images.extend(glob.glob(path + \"/*.webp\"))\n",
    "    images.extend(glob.glob(path + \"/*.svg\"))\n",
    "\n",
    "    # If there are no images in the directory, return\n",
    "    if len(images) == 0:\n",
    "        return\n",
    "\n",
    "    # Sort the images\n",
    "    images.sort()\n",
    "    # Convert all the images to pdf\n",
    "    with open(output_path, \"wb\") as f:\n",
    "        f.write(img2pdf.convert(images))    \n",
    "\n",
    "# Loop through all the subdirectories\n",
    "for subdirectory in subdirectories:\n",
    "    # Get the name of the subdirectory\n",
    "    subdirectory_name = os.path.basename(subdirectory)\n",
    "    # Get the path of the subdirectory\n",
    "    subdirectory_path = os.path.join(directory, subdirectory_name)\n",
    "    # Get the path of the output file\n",
    "    output_path = os.path.join(directory, subdirectory_name + \".pdf\")\n",
    "    # Convert the images to pdf\n",
    "    convert_images_to_pdf(subdirectory_path, output_path)\n",
    "\n",
    "# Rename the underscore in the name of the subdirectory with a space [Resolves Bugs]\n",
    "for folder in os.listdir(directory):\n",
    "    os.rename(os.path.join(directory, folder), os.path.join(directory, folder.replace(\"_\", \" \")))\n",
    "    "
   ]
  },
  {
   "cell_type": "markdown",
   "metadata": {},
   "source": [
    "CASE 3: The user just need to merge the different pdf files into a single PDF file."
   ]
  },
  {
   "cell_type": "code",
   "execution_count": 2,
   "metadata": {},
   "outputs": [
    {
     "name": "stderr",
     "output_type": "stream",
     "text": [
      "Xref table not zero-indexed. ID numbers for objects will be corrected.\n",
      "Xref table not zero-indexed. ID numbers for objects will be corrected.\n",
      "Xref table not zero-indexed. ID numbers for objects will be corrected.\n"
     ]
    },
    {
     "name": "stdout",
     "output_type": "stream",
     "text": [
      "The pdf files have been merged successfully.\n"
     ]
    }
   ],
   "source": [
    "# Import the required libraries\n",
    "import PyPDF2\n",
    "import os\n",
    "\n",
    "# Set the working directory\n",
    "directory=\"files\"\n",
    "\n",
    "# Set the output file name\n",
    "output_file=\"merged_output\"\n",
    "\n",
    "# Get the list of pdf files in the directory\n",
    "pdf_files = [f for f in os.listdir(directory) if f.endswith('.pdf')]\n",
    "pdf_files.sort()\n",
    "\n",
    "\n",
    "# Create the merged output file\n",
    "merged_output = PyPDF2.PdfFileWriter()\n",
    "\n",
    "# Loop through the list of pdf files\n",
    "for file in pdf_files:\n",
    "    # Open the pdf file\n",
    "    pdf_file = open(directory+\"/\"+file, 'rb')\n",
    "    # Read the pdf file\n",
    "    pdf_reader = PyPDF2.PdfFileReader(pdf_file)\n",
    "    # Loop through the pages of the pdf file\n",
    "    for page in range(pdf_reader.numPages):\n",
    "        # Get the page\n",
    "        page = pdf_reader.getPage(page)\n",
    "        # Add the page to the merged output file\n",
    "        merged_output.addPage(page)\n",
    "    \n",
    "# Write the merged output file\n",
    "with open(output_file+\".pdf\", 'wb') as f:\n",
    "    merged_output.write(f)\n",
    "\n",
    "# Close the pdf file\n",
    "pdf_file.close()\n",
    "\n",
    "# Close the merged output file\n",
    "f.close()\n",
    "\n",
    "# Print the message\n",
    "print(\"The pdf files have been merged successfully.\")"
   ]
  },
  {
   "cell_type": "code",
   "execution_count": null,
   "metadata": {},
   "outputs": [],
   "source": []
  }
 ],
 "metadata": {
  "kernelspec": {
   "display_name": "Python 3.9.13 ('base')",
   "language": "python",
   "name": "python3"
  },
  "language_info": {
   "codemirror_mode": {
    "name": "ipython",
    "version": 3
   },
   "file_extension": ".py",
   "mimetype": "text/x-python",
   "name": "python",
   "nbconvert_exporter": "python",
   "pygments_lexer": "ipython3",
   "version": "3.9.13"
  },
  "orig_nbformat": 4,
  "vscode": {
   "interpreter": {
    "hash": "a0800dedeceeb2be9266c98bbec2547ef0f331282e1aa8877f5859637121b223"
   }
  }
 },
 "nbformat": 4,
 "nbformat_minor": 2
}
