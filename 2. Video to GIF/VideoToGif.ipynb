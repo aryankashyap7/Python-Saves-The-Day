{
 "cells": [
  {
   "cell_type": "markdown",
   "metadata": {},
   "source": [
    "<h3> Problem Faced:</h3>\n",
    "<h4>\n",
    " Many websites charge for converting videos to GIFs. Even if they are free, the quality of the GIF is not good. So, I decided to make a program that can convert videos to GIFs.\n",
    "</h4>\n"
   ]
  },
  {
   "cell_type": "markdown",
   "metadata": {},
   "source": []
  },
  {
   "cell_type": "code",
   "execution_count": 7,
   "metadata": {},
   "outputs": [],
   "source": [
    "# Installing the required packages\n",
    "\n",
    "# !pip install moviepy\n",
    "# !pip install imageio\n",
    "# !pip install imageio-ffmpeg"
   ]
  },
  {
   "cell_type": "code",
   "execution_count": 1,
   "metadata": {},
   "outputs": [
    {
     "name": "stdout",
     "output_type": "stream",
     "text": [
      "MoviePy - Building file sample.gif with imageio.\n"
     ]
    },
    {
     "name": "stderr",
     "output_type": "stream",
     "text": [
      "                                                            \r"
     ]
    }
   ],
   "source": [
    "\n",
    "# Importing the required packages\n",
    "from moviepy.editor import VideoFileClip\n",
    "\n",
    "#Setting the path of the video file\n",
    "video_name = 'sample.mp4'\n",
    "\n",
    "# Setting the path of the output GIF file\n",
    "gif_name = 'sample.gif'\n",
    "\n",
    "# VideoFileClip is used to read the video file\n",
    "videoClip = VideoFileClip(video_name)\n",
    "\n",
    "# # Writing the GIF file\n",
    "# videoClip.write_gif(gif_name)\n",
    "\n",
    "# Reduce the size of the GIF file\n",
    "# fps is the number of frames per second,fuzz is the number of frames to skip and opt is the optimization level\n",
    "videoClip.write_gif(\"sample.gif\", fps=5, fuzz=5, opt=\"OptimizePlus\")"
   ]
  },
  {
   "cell_type": "code",
   "execution_count": 2,
   "metadata": {},
   "outputs": [
    {
     "data": {
      "text/html": [
       "<img src=\"sample.gif\">"
      ],
      "text/plain": [
       "<IPython.core.display.HTML object>"
      ]
     },
     "execution_count": 2,
     "metadata": {},
     "output_type": "execute_result"
    }
   ],
   "source": [
    "# Displaying the GIF file\n",
    "from IPython.display import HTML\n",
    "HTML('<img src=\"sample.gif\">')"
   ]
  },
  {
   "cell_type": "code",
   "execution_count": null,
   "metadata": {},
   "outputs": [],
   "source": []
  }
 ],
 "metadata": {
  "kernelspec": {
   "display_name": "Python 3.9.13 ('base')",
   "language": "python",
   "name": "python3"
  },
  "language_info": {
   "codemirror_mode": {
    "name": "ipython",
    "version": 3
   },
   "file_extension": ".py",
   "mimetype": "text/x-python",
   "name": "python",
   "nbconvert_exporter": "python",
   "pygments_lexer": "ipython3",
   "version": "3.9.13"
  },
  "orig_nbformat": 4,
  "vscode": {
   "interpreter": {
    "hash": "a0800dedeceeb2be9266c98bbec2547ef0f331282e1aa8877f5859637121b223"
   }
  }
 },
 "nbformat": 4,
 "nbformat_minor": 2
}
